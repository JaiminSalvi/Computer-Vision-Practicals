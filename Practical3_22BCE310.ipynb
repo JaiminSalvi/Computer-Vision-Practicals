{
 "cells": [
  {
   "cell_type": "code",
   "execution_count": 1,
   "metadata": {},
   "outputs": [],
   "source": [
    "import cv2\n",
    "import numpy as np\n",
    "\n",
    "# Negative transformation\n",
    "\n",
    "path='./Images/download.jpg'\n",
    "img=cv2.imread(path)\n",
    "og=img.copy()\n",
    "h=img.shape[0]\n",
    "w=img.shape[1]\n",
    "for i in range(h):\n",
    "    for j in range(w):\n",
    "        pixel=img[i,j]\n",
    "        pixel[0]=255-pixel[0]\n",
    "        pixel[1]=255-pixel[1]\n",
    "        pixel[2]=255-pixel[2]\n",
    "        img[i,j]=pixel\n",
    "cv2.imshow(\"Original Image\",og)\n",
    "cv2.imshow(\"Log Transformed Image\",img)\n",
    "cv2.waitKey(0)\n",
    "cv2.destroyAllWindows()"
   ]
  },
  {
   "cell_type": "code",
   "execution_count": 3,
   "metadata": {},
   "outputs": [
    {
     "name": "stderr",
     "output_type": "stream",
     "text": [
      "C:\\Users\\Jaimin\\AppData\\Local\\Temp\\ipykernel_4752\\3119325065.py:6: RuntimeWarning: divide by zero encountered in log\n",
      "  log_image = c * (np.log(image + 1))\n",
      "C:\\Users\\Jaimin\\AppData\\Local\\Temp\\ipykernel_4752\\3119325065.py:8: RuntimeWarning: invalid value encountered in cast\n",
      "  log_image = np.array(log_image, dtype = np.uint8)\n"
     ]
    }
   ],
   "source": [
    "# Log Transformation\n",
    "\n",
    "image = cv2.imread('./Images/download.webp', cv2.IMREAD_COLOR) \n",
    "   \n",
    "c = (255 /np.log(1 + np.max(image))) \n",
    "log_image = c * (np.log(image + 1)) \n",
    "   \n",
    "log_image = np.array(log_image, dtype = np.uint8) \n",
    "   \n",
    "cv2.imshow(\"Original Image\",image)\n",
    "cv2.imshow(\"Log Transformed Image\",log_image)\n",
    "cv2.waitKey(0)\n",
    "cv2.destroyAllWindows()"
   ]
  },
  {
   "cell_type": "code",
   "execution_count": 4,
   "metadata": {},
   "outputs": [],
   "source": [
    "# power transformation\n",
    "\n",
    "\n",
    "img = cv2.imread('./Images/download.jpg') \n",
    "\n",
    "for gamma in [0.5]: \t\n",
    "\tgamma_corrected = np.array(255*(img / 255) ** gamma, dtype = 'uint8') \n",
    "cv2.imshow(\"Original Image\",img)\n",
    "cv2.imshow(\"Gamma Transformed Image\",gamma_corrected)\n",
    "cv2.waitKey(0)\n",
    "cv2.destroyAllWindows()\n"
   ]
  },
  {
   "cell_type": "code",
   "execution_count": 5,
   "metadata": {},
   "outputs": [],
   "source": [
    "\n",
    "image = cv2.imread('./Images/download.jpg', cv2.IMREAD_GRAYSCALE)\n",
    "\n",
    "histogram = np.zeros(256)\n",
    "for pixel in image.ravel():\n",
    "    histogram[pixel] += 1\n",
    "\n",
    "cdf = histogram.cumsum()\n",
    "\n",
    "cdf_normalized = cdf * 255 / cdf[-1]\n",
    "\n",
    "equalized_image = np.interp(image.ravel(), np.arange(256), cdf_normalized).reshape(image.shape)\n",
    "\n",
    "equalized_image = np.uint8(equalized_image)\n",
    "\n",
    "cv2.imshow('Original Image', image)\n",
    "cv2.imshow('Equalized Image', equalized_image)\n",
    "\n",
    "cv2.waitKey(0)\n",
    "cv2.destroyAllWindows()"
   ]
  },
  {
   "cell_type": "code",
   "execution_count": 6,
   "metadata": {},
   "outputs": [],
   "source": [
    "#Contrast streching(point operation)\n",
    "# Contrast stretching is an Image Enhancement method which attempts to improve an image by stretching the range of intensity values.\n",
    "# Here, we stretch the minimum and maximum intensity values present to the possible minimum and maximum intensity values.\n",
    "\n",
    "# original formula for contrats streching is\n",
    "                # s = (r-rmin)*(Imax-Imin)/(rmax-rmin) + Imin\n",
    "                # for 8 bit gray scale image Imin=0 and I max=255 so formula is s= 255*((r-rmin)/(rmax-rmin))\n",
    "\n",
    "                # where,\n",
    "                # r = current pixel intensity value\n",
    "                # r min = minimum intensity value present in the whole image\n",
    "                # r max = maximum intensity value present in the whole image\n",
    "\n",
    "image = cv2.imread('./Images/contrast_stretching.jpg',0)\n",
    "\n",
    "channels = cv2.split(image)\n",
    "\n",
    "stretched_channels = []\n",
    "for channel in channels:\n",
    "    min_pixel = np.min(channel)\n",
    "    max_pixel = np.max(channel)\n",
    "    stretched_channel = 255 * ((channel - min_pixel) / (max_pixel - min_pixel))\n",
    "    stretched_channels.append(np.uint8(stretched_channel))\n",
    "\n",
    "stretched_image = cv2.merge(stretched_channels)\n",
    "\n",
    "cv2.imshow('Original Image', image)\n",
    "cv2.imshow('Contrast Stretched Image', stretched_image)\n",
    "\n",
    "cv2.waitKey(0)\n",
    "cv2.destroyAllWindows()"
   ]
  }
 ],
 "metadata": {
  "kernelspec": {
   "display_name": "Python 3",
   "language": "python",
   "name": "python3"
  },
  "language_info": {
   "codemirror_mode": {
    "name": "ipython",
    "version": 3
   },
   "file_extension": ".py",
   "mimetype": "text/x-python",
   "name": "python",
   "nbconvert_exporter": "python",
   "pygments_lexer": "ipython3",
   "version": "3.12.4"
  }
 },
 "nbformat": 4,
 "nbformat_minor": 2
}
