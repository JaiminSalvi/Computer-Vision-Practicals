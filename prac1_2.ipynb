{
 "cells": [
  {
   "cell_type": "code",
   "execution_count": 3,
   "metadata": {},
   "outputs": [],
   "source": [
    "import cv2\n",
    "import numpy as np\n",
    "import os\n",
    "path='./Images/salted_image.ppm'\n",
    "img=cv2.imread(path, cv2.IMREAD_COLOR)\n",
    "cv2.imshow(\"image\",img)\n",
    "cv2.waitKey(0)\n",
    "cv2.destroyAllWindows()"
   ]
  },
  {
   "cell_type": "code",
   "execution_count": 4,
   "metadata": {},
   "outputs": [
    {
     "name": "stdout",
     "output_type": "stream",
     "text": [
      "(374, 483, 3)\n"
     ]
    }
   ],
   "source": [
    "# print(img.shape[1],img.shape[0])\n",
    "print(img.shape)"
   ]
  },
  {
   "cell_type": "code",
   "execution_count": 5,
   "metadata": {},
   "outputs": [],
   "source": [
    "k = 3\n",
    "padded_img = cv2.copyMakeBorder(img, k//2, k//2, k//2, k//2, cv2.BORDER_CONSTANT, value=[0, 0, 0])\n",
    "my_img = img.copy()  # Initialize the output image with the same shape as the original\n",
    "\n",
    "def cvt_min(image, my_img, k):\n",
    "    pd = k // 2\n",
    "    h = my_img.shape[0]\n",
    "    w = my_img.shape[1]\n",
    "    # c = image.shape[2]\n",
    "    for i in range(pd, h - pd):\n",
    "        for j in range(pd, w - pd):\n",
    "            # for channel in range(c):\n",
    "            #     mini = 255\n",
    "            #     for l in range(k):\n",
    "            #         for m in range(k):\n",
    "            #             mini = min(mini, image[i + l, j + m, channel])\n",
    "            #     my_img[i, j, channel] = mini\n",
    "            k_mat = image[i-pd:i+pd+1, j-pd:j+pd+1]\n",
    "            mini = np.min(k_mat)\n",
    "            my_img[i, j] = mini\n",
    "    return my_img\n",
    "\n",
    "new_img = cvt_min(padded_img, my_img, k)\n",
    "\n",
    "cv2.imshow(\"image\", new_img)\n",
    "cv2.waitKey(0)\n",
    "cv2.destroyAllWindows()"
   ]
  },
  {
   "cell_type": "code",
   "execution_count": 6,
   "metadata": {},
   "outputs": [],
   "source": [
    "k = 3\n",
    "path='./Images/pepper_image.jpg'\n",
    "img=cv2.imread(path, cv2.IMREAD_COLOR)\n",
    "padded_img = cv2.copyMakeBorder(img, k//2, k//2, k//2, k//2, cv2.BORDER_CONSTANT, value=[0, 0, 0])\n",
    "my_img = np.zeros_like(img) \n",
    "\n",
    "def cvt_max(min_img, k):\n",
    "    pd = k // 2\n",
    "    h = min_img.shape[0]\n",
    "    w = min_img.shape[1]\n",
    "    c = min_img.shape[2]\n",
    "    max_img = np.zeros_like(min_img)  # Initialize the max image\n",
    "\n",
    "    for i in range(pd, h - pd):\n",
    "        for j in range(pd, w - pd):\n",
    "            for channel in range(c):\n",
    "                k_mat = min_img[i-pd:i+pd+1, j-pd:j+pd+1, channel]\n",
    "                maxi = np.max(k_mat)\n",
    "                max_img[i, j, channel] = maxi\n",
    "    return max_img\n",
    "\n",
    "final_img = cvt_max(padded_img, k)\n",
    "\n",
    "cv2.imshow(\"image\", final_img)\n",
    "cv2.waitKey(0)\n",
    "cv2.destroyAllWindows()"
   ]
  },
  {
   "cell_type": "code",
   "execution_count": 9,
   "metadata": {},
   "outputs": [],
   "source": [
    "k = 3\n",
    "path='./Images/pepper_image.jpg'\n",
    "img=cv2.imread(path, cv2.IMREAD_COLOR)\n",
    "padded_img = cv2.copyMakeBorder(img, k//2, k//2, k//2, k//2, cv2.BORDER_CONSTANT, value=[0, 0, 0])\n",
    "\n",
    "def cvt_medain(med_img, k):\n",
    "    pd = k // 2\n",
    "    h = med_img.shape[0]\n",
    "    w = med_img.shape[1]\n",
    "    c = med_img.shape[2]\n",
    "    max_img = np.zeros_like(med_img) \n",
    "\n",
    "    for i in range(pd, h - pd):\n",
    "        for j in range(pd, w - pd):\n",
    "            for channel in range(c):\n",
    "                k_mat = med_img[i-pd:i+pd+1, j-pd:j+pd+1, channel]\n",
    "                maxi = np.median(k_mat)\n",
    "                max_img[i, j, channel] = maxi\n",
    "    return max_img\n",
    "\n",
    "final_img = cvt_medain(padded_img, k)\n",
    "\n",
    "cv2.imshow(\"image\", final_img)\n",
    "cv2.waitKey(0)\n",
    "cv2.destroyAllWindows()"
   ]
  },
  {
   "cell_type": "code",
   "execution_count": 10,
   "metadata": {},
   "outputs": [],
   "source": [
    "k=3\n",
    "path='./Images/gaussian_noise_image.jpg'\n",
    "img=cv2.imread(path, cv2.IMREAD_COLOR)\n",
    "padded_img = cv2.copyMakeBorder(img, k//2, k//2, k//2, k//2, cv2.BORDER_CONSTANT, value=[0, 0, 0])\n",
    "\n",
    "def cvt_mean(mean_img, k):\n",
    "    pd = k // 2\n",
    "    h = mean_img.shape[0]\n",
    "    w = mean_img.shape[1]\n",
    "    c = mean_img.shape[2]\n",
    "    mean_img = mean_img.copy()  \n",
    "\n",
    "    for i in range(pd, h - pd):\n",
    "        for j in range(pd, w - pd):\n",
    "                k_mat = mean_img[i-pd:i+pd+1, j-pd:j+pd+1]\n",
    "                mean = np.mean(k_mat, axis=(0, 1))\n",
    "                mean_img[i, j] = mean\n",
    "    return mean_img\n",
    "\n",
    "final_img = cvt_mean(padded_img, k)\n",
    "\n",
    "cv2.imshow(\"image\", final_img)\n",
    "cv2.waitKey(0)\n",
    "cv2.destroyAllWindows()"
   ]
  }
 ],
 "metadata": {
  "kernelspec": {
   "display_name": "Python 3",
   "language": "python",
   "name": "python3"
  },
  "language_info": {
   "codemirror_mode": {
    "name": "ipython",
    "version": 3
   },
   "file_extension": ".py",
   "mimetype": "text/x-python",
   "name": "python",
   "nbconvert_exporter": "python",
   "pygments_lexer": "ipython3",
   "version": "3.12.4"
  }
 },
 "nbformat": 4,
 "nbformat_minor": 2
}
