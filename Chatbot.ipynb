{
 "cells": [
  {
   "cell_type": "code",
   "execution_count": 3,
   "metadata": {},
   "outputs": [],
   "source": [
    "from langchain_groq import ChatGroq\n",
    "llm=ChatGroq(api_key=\"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\",model=\"llama3-70b-8192\")"
   ]
  },
  {
   "cell_type": "code",
   "execution_count": 4,
   "metadata": {},
   "outputs": [
    {
     "data": {
      "text/plain": [
       "ChatGroq(client=<groq.resources.chat.completions.Completions object at 0x000001FA2BEFE780>, async_client=<groq.resources.chat.completions.AsyncCompletions object at 0x000001FA2BEFEAE0>, model_name='llama3-70b-8192', model_kwargs={}, groq_api_key=SecretStr('**********'))"
      ]
     },
     "execution_count": 4,
     "metadata": {},
     "output_type": "execute_result"
    }
   ],
   "source": [
    "llm "
   ]
  },
  {
   "cell_type": "code",
   "execution_count": 6,
   "metadata": {},
   "outputs": [
    {
     "name": "stdout",
     "output_type": "stream",
     "text": [
      "Hello! It's nice to meet you. Is there something I can help you with, or would you like to chat?\n",
      "Natural Language Processing (NLP) is a subfield of artificial intelligence (AI) that deals with the interaction between computers and humans in natural language. It's a way for computers to understand, interpret, and generate human language, enabling them to perform tasks that would normally require human-level understanding of language.\n",
      "\n",
      "NLP combines computer science, linguistics, and machine learning to enable computers to:\n",
      "\n",
      "1. **Understand** human language: This involves parsing, syntax analysis, and semantic role labeling to identify the meaning of words, phrases, and sentences.\n",
      "2. **Generate** human-like language: This involves using machine learning algorithms to produce human-like text or speech that is coherent and natural-sounding.\n",
      "3. **Process** human language: This involves tasks like sentiment analysis, entity recognition, and language translation.\n",
      "\n",
      "Some examples of NLP in action include:\n",
      "\n",
      "* Virtual assistants like Siri, Alexa, and Google Assistant, which can understand voice commands and respond accordingly.\n",
      "* Sentiment analysis tools that can analyze customer feedback and determine whether it's positive, negative, or neutral.\n",
      "* Language translation apps like Google Translate, which can translate text and speech in real-time.\n",
      "* Chatbots that can understand and respond to customer inquiries.\n",
      "* Speech recognition systems that can transcribe audio and video recordings into text.\n",
      "\n",
      "There are several key NLP techniques that enable these applications:\n",
      "\n",
      "1. **Tokenization**: breaking down text into individual words or tokens.\n",
      "2. **Part-of-speech tagging**: identifying the grammatical category of each word (e.g., noun, verb, adjective).\n",
      "3. **Named entity recognition**: identifying specific entities like names, locations, and organizations.\n",
      "4. **Dependency parsing**: analyzing sentence structure and relationships between words.\n",
      "5. **Machine learning algorithms**: training models on large datasets to learn patterns and relationships in language.\n",
      "\n",
      "NLP has many applications across industries, including:\n",
      "\n",
      "1. Customer service: chatbots and virtual assistants can help respond to customer inquiries.\n",
      "2. Marketing: sentiment analysis can help analyze customer feedback and identify trends.\n",
      "3. Healthcare: NLP can help analyze medical records and identify patterns or diagnose conditions.\n",
      "4. Education: NLP can help with language learning and literacy tools.\n",
      "5. Language translation: NLP can enable real-time translation of text and speech.\n",
      "\n",
      "Overall, NLP is a powerful technology that enables computers to understand and interact with humans in a more natural and human-like way.\n",
      "NLC can refer to several things, depending on the context:\n",
      "\n",
      "1. **National Labor Committee**: The National Labor Committee (NLC) is a non-profit organization based in Pittsburgh, Pennsylvania, that focuses on promoting fair labor practices and protecting workers' rights in the United States and around the world.\n",
      "2. **Nursing Leadership Council**: In healthcare, NLC may refer to a Nursing Leadership Council, which is a group of nursing professionals who provide leadership and guidance to nursing staff in a hospital or healthcare organization.\n",
      "3. **Non-Linear Control**: In control systems engineering, NLC can stand for Non-Linear Control, which refers to a type of control system that uses non-linear models and algorithms to control complex systems.\n",
      "4. **Numerical Linear Algebra**: In numerical analysis, NLC may refer to Numerical Linear Algebra, which is a subfield of numerical analysis that deals with the numerical solution of linear algebra problems.\n",
      "5. **Nanosecond Laser Cutting**: In materials science and manufacturing, NLC can stand for Nanosecond Laser Cutting, which is a technique used to cut materials with high precision and accuracy using a laser.\n",
      "6. **National Language Corpus**: In linguistics, NLC may refer to a National Language Corpus, which is a large database of texts and spoken language samples used for linguistic research and language teaching.\n",
      "7. **New Labour Code**: In India, NLC refers to the New Labour Code, which is a set of four labour codes that aim to simplify and consolidate the country's labour laws.\n",
      "\n",
      "Without more context, it's difficult to determine which definition is most relevant. If you have any additional information or clarification, I'd be happy to try and provide a more specific answer.\n"
     ]
    }
   ],
   "source": [
    "while True:\n",
    "    user=input()\n",
    "    if user=='exit':\n",
    "        break\n",
    "    else:\n",
    "        response=llm.invoke(user).content\n",
    "        print(response)"
   ]
  },
  {
   "cell_type": "code",
   "execution_count": null,
   "metadata": {},
   "outputs": [],
   "source": [
    "# another Implementation\n",
    "from langchain_ollama import ChatOllama\n",
    "from langchain_core.messages import SystemMessage, HumanMessage, AIMessage\n",
    "\n",
    "llm = ChatOllama(\n",
    "    model=\"tinyllama\",\n",
    "    temperature=0    \n",
    ")\n",
    "\n",
    "chat_history=[]\n",
    "chat_history.append(SystemMessage(content=\"You are a good assistant in Mathematics\"))\n",
    "\n",
    "while True:\n",
    "    human_message=input(\"Your Query:\")\n",
    "    if human_message.lower()==\"exit\":\n",
    "        break\n",
    "    chat_history.append(HumanMessage(content=human_message))\n",
    "    ai_message=llm.invoke(chat_history)\n",
    "    print(ai_message.content)\n",
    "    chat_history.append(AIMessage(content=ai_message.content))"
   ]
  }
 ],
 "metadata": {
  "kernelspec": {
   "display_name": "Python 3",
   "language": "python",
   "name": "python3"
  },
  "language_info": {
   "codemirror_mode": {
    "name": "ipython",
    "version": 3
   },
   "file_extension": ".py",
   "mimetype": "text/x-python",
   "name": "python",
   "nbconvert_exporter": "python",
   "pygments_lexer": "ipython3",
   "version": "3.12.4"
  }
 },
 "nbformat": 4,
 "nbformat_minor": 2
}
