{
 "cells": [
  {
   "cell_type": "code",
   "execution_count": 2,
   "metadata": {},
   "outputs": [],
   "source": [
    "import cv2\n",
    "import numpy as np\n",
    "path='./Images/pepper_image.jpg'\n",
    "img=cv2.imread(path, cv2.IMREAD_COLOR)\n",
    "cv2.imshow(\"image\",img)\n",
    "cv2.waitKey(0)\n",
    "cv2.destroyAllWindows()"
   ]
  },
  {
   "cell_type": "code",
   "execution_count": 3,
   "metadata": {},
   "outputs": [
    {
     "data": {
      "text/plain": [
       "(900, 900, 3)"
      ]
     },
     "execution_count": 3,
     "metadata": {},
     "output_type": "execute_result"
    }
   ],
   "source": [
    "h=img.shape[0]\n",
    "w=img.shape[1]\n",
    "factor=3\n",
    "output_img = np.zeros((factor*h, factor*w, img.shape[2]), dtype=img.dtype) \n",
    "output_img.shape"
   ]
  },
  {
   "cell_type": "code",
   "execution_count": 11,
   "metadata": {},
   "outputs": [],
   "source": [
    "def zoom_out(image,output,factor):\n",
    "    h=image.shape[0]\n",
    "    w=image.shape[1]\n",
    "    for i in range(0,h):\n",
    "        for j in range(0,w):\n",
    "            for l in range(factor):\n",
    "                for m in range(factor):\n",
    "                    output[factor*i+l,factor*j+m]=image[i,j]\n",
    "                    # sum+=image[factor*i+l,factor*j+m,k]\n",
    "            # output[factor*i,factor*j]=image[i,j]\n",
    "            # output[factor*i+1,factor*j]=image[i,j]\n",
    "            # output[factor*i,factor*j+1]=image[i,j]\n",
    "            # output[factor*i+1,factor*j+1]=image[i,j]\n",
    "    return output\n",
    "\n",
    "final=zoom_out(img,output_img,factor)\n",
    "cv2.imshow(\"image\",final)\n",
    "cv2.waitKey(0)\n",
    "cv2.destroyAllWindows()"
   ]
  },
  {
   "cell_type": "code",
   "execution_count": 5,
   "metadata": {},
   "outputs": [
    {
     "name": "stdout",
     "output_type": "stream",
     "text": [
      "(100, 100, 3)\n"
     ]
    }
   ],
   "source": [
    "def zoom_in(image,factor):\n",
    "    h=image.shape[0]\n",
    "    w=image.shape[1]\n",
    "    output_img=np.zeros((h//factor, w//factor, image.shape[2]), dtype=img.dtype)\n",
    "    for i in range(h//factor):\n",
    "        for j in range(w//factor):\n",
    "            sum=0\n",
    "            for l in range(factor):\n",
    "                for m in range(factor):\n",
    "                    for k in range(3):\n",
    "                        sum+=image[factor*i+l,factor*j+m,k]\n",
    "            output_img[i,j]=sum//(3*factor*factor)\n",
    "    # print(output_img)\n",
    "    return output_img\n",
    "\n",
    "final=zoom_in(img,factor)\n",
    "print(final.shape)\n",
    "cv2.imshow(\"image\",final)\n",
    "cv2.waitKey(0)\n",
    "cv2.destroyAllWindows()"
   ]
  },
  {
   "cell_type": "code",
   "execution_count": 6,
   "metadata": {},
   "outputs": [],
   "source": [
    "# gray scale image\n",
    "path='./Images/img1.png'\n",
    "img=cv2.imread(path, cv2.IMREAD_COLOR)\n",
    "def cvt_gray(img):\n",
    "    h=img.shape[0]\n",
    "    w=img.shape[1]\n",
    "    gray_img=np.zeros((h,w),dtype=img.dtype)\n",
    "    for i in range(h):\n",
    "        for j in range(w):\n",
    "            gray_img[i,j]=np.mean(img[i,j,:])\n",
    "    return gray_img\n",
    "gray_img=cvt_gray(img)\n",
    "# print(final.shape)\n",
    "cv2.imshow(\"image\",gray_img)\n",
    "cv2.waitKey(0)\n",
    "cv2.destroyAllWindows()"
   ]
  },
  {
   "cell_type": "code",
   "execution_count": 7,
   "metadata": {},
   "outputs": [],
   "source": [
    "# Using average filter\n",
    "f=np.zeros((3,3))\n",
    "\n",
    "def cvt_average_filter(img,filter):\n",
    "    h=img.shape[0]\n",
    "    w=img.shape[1]\n",
    "    output=np.zeros((h,w),dtype=img.dtype)\n",
    "    pd=1\n",
    "    for i in range(pd, h - pd):\n",
    "        for j in range(pd, w - pd):\n",
    "            # for channel in range(c):\n",
    "            #     mini = 255\n",
    "            #     for l in range(k):\n",
    "            #         for m in range(k):\n",
    "            #             mini = min(mini, image[i + l, j + m, channel])\n",
    "            #     my_img[i, j, channel] = mini\n",
    "            values = []\n",
    "            for row in range(max(0, i-1), min(h, i+2)):\n",
    "                for column in range(max(0, j-1), min(w, j+2)):\n",
    "                    values.append(img[row][column])\n",
    "            output[i][j] = np.dot(values, filter.flatten())\n",
    "    return output\n",
    "\n",
    "img_average_filter=cvt_average_filter(gray_img,f)\n",
    "# print(final.shape)\n",
    "cv2.imshow(\"image\",img_average_filter)\n",
    "cv2.waitKey(0)\n",
    "cv2.destroyAllWindows()"
   ]
  },
  {
   "cell_type": "code",
   "execution_count": 8,
   "metadata": {},
   "outputs": [],
   "source": [
    "f=np.ones((3,3))\n",
    "f[1,1]=-8\n",
    "img_laplasion_filter=cvt_average_filter(gray_img,f)\n",
    "cv2.imshow(\"image\",img_laplasion_filter)\n",
    "cv2.waitKey(0)\n",
    "cv2.destroyAllWindows()"
   ]
  },
  {
   "cell_type": "code",
   "execution_count": 9,
   "metadata": {},
   "outputs": [],
   "source": [
    "f=np.ones((3,3))\n",
    "f=np.array([[0,1,0],[1,5,1],[0,1,0]])\n",
    "img_laplasion_filter=cvt_average_filter(gray_img,f)\n",
    "cv2.imshow(\"image\",img_laplasion_filter)\n",
    "cv2.waitKey(0)\n",
    "cv2.destroyAllWindows()"
   ]
  },
  {
   "cell_type": "code",
   "execution_count": 12,
   "metadata": {},
   "outputs": [],
   "source": [
    "\n",
    "img = cv2.imread('./Images/contrast_stretching.jpg')\n",
    "\n",
    "filter1 = np.array([[-1, -2,-1],\n",
    "                   [0, 0,0],\n",
    "                   [1,2,1]])\n",
    "\n",
    "filter2 = np.array([[-1,0,1],\n",
    "                   [-2, 0,2],\n",
    "                   [-1,0,1]])\n",
    "\n",
    "\n",
    "img_row = int(img.shape[0])\n",
    "img_col = int(img.shape[1])\n",
    "\n",
    "new_img1 = np.zeros((img_row,img_col,3),dtype=np.uint8)\n",
    "new_img2 = np.zeros((img_row,img_col,3),dtype=np.uint8)\n",
    "\n",
    "padded_img = cv2.copyMakeBorder(img,1,1,1,1,cv2.BORDER_REPLICATE)\n",
    "\n",
    "for i in range(img_row):\n",
    "    for j in range(img_col):\n",
    "        for k in range(3):\n",
    "            region = padded_img[i:i+3, j:j+3, k]\n",
    "            new_value = np.sum(region * filter1)\n",
    "            #here clip is used to ensure that new_value must be in range \n",
    "            new_img1[i, j, k] = np.clip(new_value, 0, 255)\n",
    "\n",
    "\n",
    "for i in range(img_row):\n",
    "    for j in range(img_col):\n",
    "        for k in range(3):\n",
    "            region = padded_img[i:i+3, j:j+3, k]\n",
    "            new_value = np.sum(region * filter2)\n",
    "            #here clip is used to ensure that new_value must be in range \n",
    "            new_img2[i, j, k] = np.clip(new_value, 0, 255)\n",
    "\n",
    "cv2.imshow('original image',img)\n",
    "cv2.imshow('horizontal image',new_img1)\n",
    "cv2.imshow('vertical image',new_img2)\n",
    "cv2.imshow('Filtered image',new_img1+new_img2)\n",
    "cv2.waitKey(0)\n",
    "cv2.destroyAllWindows()"
   ]
  }
 ],
 "metadata": {
  "kernelspec": {
   "display_name": "Python 3",
   "language": "python",
   "name": "python3"
  },
  "language_info": {
   "codemirror_mode": {
    "name": "ipython",
    "version": 3
   },
   "file_extension": ".py",
   "mimetype": "text/x-python",
   "name": "python",
   "nbconvert_exporter": "python",
   "pygments_lexer": "ipython3",
   "version": "3.12.4"
  }
 },
 "nbformat": 4,
 "nbformat_minor": 2
}
