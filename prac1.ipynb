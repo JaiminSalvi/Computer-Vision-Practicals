{
 "cells": [
  {
   "cell_type": "code",
   "execution_count": 8,
   "metadata": {},
   "outputs": [],
   "source": [
    "import cv2\n",
    "import numpy as np\n",
    "import os\n",
    "path='./Images/salted_image.ppm'\n",
    "img=cv2.imread(path, cv2.IMREAD_COLOR)\n",
    "cv2.imshow(\"image\",img)\n",
    "cv2.waitKey(0)\n",
    "cv2.destroyAllWindows()"
   ]
  },
  {
   "cell_type": "code",
   "execution_count": 9,
   "metadata": {},
   "outputs": [],
   "source": [
    "gray_img=cv2.cvtColor(img,cv2.COLOR_BGR2GRAY)\n",
    "cv2.imshow(\"image\",gray_img)\n",
    "cv2.waitKey(0)\n",
    "cv2.destroyAllWindows()"
   ]
  },
  {
   "cell_type": "code",
   "execution_count": 10,
   "metadata": {},
   "outputs": [],
   "source": [
    "resized_img=cv2.resize(img,(int(img.shape[1]/2),int(img.shape[0]/2)))\n",
    "cv2.imshow(\"resized image\",resized_img)\n",
    "cv2.waitKey(0)\n",
    "cv2.destroyAllWindows()"
   ]
  },
  {
   "cell_type": "code",
   "execution_count": 10,
   "metadata": {},
   "outputs": [],
   "source": [
    "# cv2.erode(img,kernel=np.ones(3,3)(np.uint))\n",
    "# cv2.imshow(\"resized image\",img)\n",
    "# cv2.waitKey(4000)\n",
    "# cv2.destroyAllWindows()"
   ]
  },
  {
   "cell_type": "code",
   "execution_count": 11,
   "metadata": {},
   "outputs": [
    {
     "name": "stdout",
     "output_type": "stream",
     "text": [
      "Eroded image saved at d:\\Nirma\\Sem-5\\CVDL\\Lab\\eroded_image.jpeg\n"
     ]
    }
   ],
   "source": [
    "kernel_size = 5\n",
    "kernel = np.ones((kernel_size, kernel_size), np.uint8)\n",
    "\n",
    "# Apply the erosion operation\n",
    "eroded_image = cv2.erode(img, kernel, iterations=1)\n",
    "# Define the path to save the eroded image\n",
    "output_path = os.path.join(os.getcwd(), 'eroded_image.jpeg')\n",
    "# Save the eroded image\n",
    "cv2.imwrite(output_path, eroded_image)\n",
    "print(f\"Eroded image saved at {output_path}\")\n",
    "# Display the eroded image\n",
    "cv2.imshow('Eroded Image', eroded_image)\n",
    "# Wait for a key press indefinitely\n",
    "cv2.waitKey(0)\n",
    "# Destroy all the windows\n",
    "cv2.destroyAllWindows()"
   ]
  },
  {
   "cell_type": "code",
   "execution_count": 26,
   "metadata": {},
   "outputs": [],
   "source": [
    "kernel_size = 5\n",
    "kernel = np.ones((kernel_size, kernel_size), np.uint8)\n",
    "path='./Images/pepper_image.jpg'\n",
    "img=cv2.imread(path, cv2.IMREAD_COLOR)\n",
    "# Apply the dilation operation\n",
    "dilated_image = cv2.dilate(img, kernel, iterations=1)\n",
    "cv2.imshow('Dilated Image', dilated_image)\n",
    "# Wait for a key press indefinitely\n",
    "cv2.waitKey(0)\n",
    "# Destroy all the windows\n",
    "cv2.destroyAllWindows()"
   ]
  },
  {
   "cell_type": "code",
   "execution_count": 21,
   "metadata": {},
   "outputs": [
    {
     "name": "stdout",
     "output_type": "stream",
     "text": [
      "Blurred image saved at: d:\\Nirma\\Sem-5\\CVDL\\Lab\\dilated_image.jpeg\n"
     ]
    }
   ],
   "source": [
    "# Apply median blur with a kernel size of 5\n",
    "blurred_image = cv2.medianBlur(img, 5)\n",
    "#Median blur, on the other hand, is a type of filtering operation that reduces noise in an image while preserving edges. It works by replacing each pixel value with the median value of the neighboring pixels defined by the kernel size. It is particularly effective at removing \"salt-and-pepper\" noise \n",
    "# Noise Reduction: Median blur is highly effective at reducing \"salt-and-pepper\" noise in images, which consists of random bright and dark pixels.\n",
    "# Edge Preservation: Unlike other blurring techniques, median blur does not blur the edges excessively. This is because the median value is less affected by extreme values (outliers) than the mean.\n",
    "        \n",
    "# Save the blurred image\n",
    "cv2.imwrite(output_path, blurred_image)\n",
    "print(f\"Blurred image saved at: {output_path}\")\n",
    "\n",
    "# Display the blurred image\n",
    "cv2.imshow('Blurred Image', blurred_image)\n",
    "\n",
    "# Wait for a key press indefinitely\n",
    "cv2.waitKey(0)\n",
    "\n",
    "# Destroy all the windows\n",
    "cv2.destroyAllWindows()"
   ]
  },
  {
   "cell_type": "code",
   "execution_count": 22,
   "metadata": {},
   "outputs": [
    {
     "name": "stdout",
     "output_type": "stream",
     "text": [
      "Blurred image saved at: d:\\Nirma\\Sem-5\\CVDL\\Lab\\dilated_image.jpeg\n"
     ]
    }
   ],
   "source": [
    "kernel_size = (5, 5)\n",
    "        \n",
    "blurred_image = cv2.blur(img, kernel_size)         \n",
    "\n",
    "cv2.imwrite(output_path, blurred_image)\n",
    "print(f\"Blurred image saved at: {output_path}\")\n",
    "\n",
    "cv2.imshow('Blurred Image', blurred_image)\n",
    "\n",
    "cv2.waitKey(0)\n",
    "\n",
    "# Destroy all the windows\n",
    "cv2.destroyAllWindows()"
   ]
  },
  {
   "cell_type": "code",
   "execution_count": 23,
   "metadata": {},
   "outputs": [
    {
     "name": "stdout",
     "output_type": "stream",
     "text": [
      "Gaussian blurred image saved at: d:\\Nirma\\Sem-5\\CVDL\\Lab\\dilated_image.jpeg\n"
     ]
    }
   ],
   "source": [
    "kernel_size = (5, 5)  # Kernel size\n",
    "sigma = 0  \n",
    "\n",
    "\n",
    "gaussian_blurred_image = cv2.GaussianBlur(img, kernel_size, sigma)\n",
    "\n",
    "cv2.imwrite(output_path, gaussian_blurred_image)\n",
    "print(f\"Gaussian blurred image saved at: {output_path}\")\n",
    "\n",
    "cv2.imshow('Gaussian Blurred Image', gaussian_blurred_image)\n",
    "\n",
    "cv2.waitKey(0)\n",
    "\n",
    "cv2.destroyAllWindows()"
   ]
  },
  {
   "cell_type": "code",
   "execution_count": 24,
   "metadata": {},
   "outputs": [
    {
     "name": "stdout",
     "output_type": "stream",
     "text": [
      "Rotated image saved at: d:\\Nirma\\Sem-5\\CVDL\\Lab\\dilated_image.jpeg\n"
     ]
    }
   ],
   "source": [
    "(height, width) = img.shape[:2]\n",
    "\n",
    "center = (width // 2, height // 2)\n",
    "\n",
    "angle = 45 \n",
    "scale = 1.0 \n",
    "\n",
    "rotation_matrix = cv2.getRotationMatrix2D(center, angle, scale)\n",
    "\n",
    "rotated_image = cv2.warpAffine(img, rotation_matrix, (width, height))\n",
    "\n",
    "cv2.imwrite(output_path, rotated_image)\n",
    "print(f\"Rotated image saved at: {output_path}\")\n",
    "\n",
    "cv2.imshow('Rotated Image', rotated_image)\n",
    "\n",
    "cv2.waitKey(0)\n",
    "\n",
    "cv2.destroyAllWindows()"
   ]
  },
  {
   "cell_type": "code",
   "execution_count": 25,
   "metadata": {},
   "outputs": [],
   "source": [
    "# Crop the image (ROI: Region of Interest)\n",
    "roi = img[50:200, 100:300]\n",
    "cv2.imshow('Cropped Image', roi)\n",
    "\n",
    "cv2.waitKey(0)\n",
    "\n",
    "cv2.destroyAllWindows()"
   ]
  }
 ],
 "metadata": {
  "kernelspec": {
   "display_name": "Python 3",
   "language": "python",
   "name": "python3"
  },
  "language_info": {
   "codemirror_mode": {
    "name": "ipython",
    "version": 3
   },
   "file_extension": ".py",
   "mimetype": "text/x-python",
   "name": "python",
   "nbconvert_exporter": "python",
   "pygments_lexer": "ipython3",
   "version": "3.12.4"
  }
 },
 "nbformat": 4,
 "nbformat_minor": 2
}
